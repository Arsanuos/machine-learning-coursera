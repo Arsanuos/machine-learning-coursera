{
 "cells": [
  {
   "cell_type": "code",
   "execution_count": 11,
   "metadata": {},
   "outputs": [],
   "source": [
    "import numpy as np\n",
    "import pandas as pd\n",
    "import graphlab\n",
    "from sklearn.model_selection import train_test_split"
   ]
  },
  {
   "cell_type": "code",
   "execution_count": 12,
   "metadata": {},
   "outputs": [],
   "source": [
    "def get_numpy_data_sframe(data_sframe, features, output):\n",
    "    data_sframe['constant'] = 1 # add a constant column to an SFrame\n",
    "    # prepend variable 'constant' to the features list\n",
    "    features = ['constant'] + features\n",
    "    # select the columns of data_SFrame given by the ‘features’ list into the SFrame ‘features_sframe’\n",
    "\n",
    "    # this will convert the features_sframe into a numpy matrix with GraphLab Create >= 1.7!!\n",
    "    features_matrix = data_sframe[features].to_numpy()\n",
    "    # assign the column of data_sframe associated with the target to the variable ‘output_sarray’\n",
    "\n",
    "    # this will convert the SArray into a numpy array:\n",
    "    output_array = data_sframe[output].to_numpy() # GraphLab Create>= 1.7!!\n",
    "    print(output_array.shape)\n",
    "    return features_matrix, output_array"
   ]
  },
  {
   "cell_type": "code",
   "execution_count": 13,
   "metadata": {},
   "outputs": [],
   "source": [
    "'''\n",
    "Next write a function that takes a data set, a list of features \n",
    "(e.g. [‘sqft_living’, ‘bedrooms’]), to be used as inputs, and a name of \n",
    "the output (e.g. ‘price’). This function should return a features_matrix \n",
    "(2D array) consisting of first a column of ones followed by columns \n",
    "containing the values of the input features in the data set in the same \n",
    "order as the input list. It should also return an output_array which is \n",
    "an array of the values of the output in the data set (e.g. ‘price’). \n",
    "e.g. if you’re using SFrames and numpy you can complete the following \n",
    "function:\n",
    "'''\n",
    "\n",
    "# df -> data frame\n",
    "# features -> required features names (list)\n",
    "# output -> output feature name (list)\n",
    "def get_numpy_data(df, features, output):\n",
    "    \n",
    "    df['constant'] = 1 # add a constant column to an SFrame\n",
    "    # prepend variable 'constant' to the features list\n",
    "    features = ['constant'] + features\n",
    "    # select the columns of data_SFrame given by the ‘features’ list into the SFrame ‘features_sframe’\n",
    "\n",
    "    # this will convert the features_sframe into a numpy matrix with GraphLab Create >= 1.7!!\n",
    "    features_matrix = df[features].values\n",
    "    # assign the column of data_sframe associated with the target to the variable ‘output_sarray’\n",
    "\n",
    "    # this will convert the SArray into a numpy array:\n",
    "    output_array = df[output].values # GraphLab Create>= 1.7!!\n",
    "    return(features_matrix, output_array)"
   ]
  },
  {
   "cell_type": "code",
   "execution_count": 14,
   "metadata": {},
   "outputs": [],
   "source": [
    "'''\n",
    "If the features matrix (including a column of 1s for the constant) is \n",
    "stored as a 2D array (or matrix) and the regression weights are stored \n",
    "as a 1D array then the predicted output is just the dot product between \n",
    "the features matrix and the weights (with the weights on the right). \n",
    "Write a function ‘predict_output’ which accepts a 2D array ‘feature_matrix’ \n",
    "and a 1D array ‘weights’ and returns a 1D array ‘predictions’. \n",
    "e.g. in python:\n",
    "'''\n",
    "def predict_outcome(features_matrix, weights):\n",
    "    predictions = np.dot(features_matrix, weights)\n",
    "    return predictions"
   ]
  },
  {
   "cell_type": "code",
   "execution_count": 15,
   "metadata": {},
   "outputs": [],
   "source": [
    "'''\n",
    "If we have a the values of a single input feature in an array \n",
    "‘feature’ and the prediction ‘errors’ (predictions - output) then the \n",
    "derivative of the regression cost function with respect to the weight of \n",
    "‘feature’ is just twice the dot product between ‘feature’ and ‘errors’. \n",
    "Write a function that accepts a ‘feature’ array and ‘error’ array and \n",
    "returns the ‘derivative’ (a single number). e.g. in python:\n",
    "'''\n",
    "def feature_derivative(errors, feature):\n",
    "    print(errors.shape[0])\n",
    "    print(feature.shape[0])\n",
    "    derivative = 2 * np.dot(errors, feature)\n",
    "    return derivative"
   ]
  },
  {
   "cell_type": "code",
   "execution_count": 16,
   "metadata": {},
   "outputs": [],
   "source": [
    "def regresssion_gradient_descent(features_matrix, output, inital_weights, step_size, tolerance):\n",
    "    converged = False\n",
    "    weights = np.array(inital_weights)\n",
    "    while not converged:\n",
    "        predictions = predict_outcome(features_matrix, weights)\n",
    "        errors = output - predictions\n",
    "        print(errors.shape)\n",
    "        print(output.shape)\n",
    "        gradient_sum_squares = 0\n",
    "        for i in range(len(weights)):\n",
    "            feature = features_matrix[:,i]\n",
    "            derivative = feature_derivative(errors, feature)\n",
    "            gradient_sum_squares += derivative**2\n",
    "            weights[i] += step_size * derivative\n",
    "        gradient_magnitude = np.sqrt(gradient_sum_squares)\n",
    "        #print(gradient_magnitude - tolerance)\n",
    "        if gradient_magnitude < tolerance:\n",
    "            converged = True\n",
    "    return weights"
   ]
  },
  {
   "cell_type": "code",
   "execution_count": 17,
   "metadata": {},
   "outputs": [],
   "source": [
    "dtype_dict = {'bathrooms':float, 'waterfront':int, 'sqft_above':int, 'sqft_living15':float, 'grade':int, 'yr_renovated':int, 'price':float, 'bedrooms':float, 'zipcode':str, 'long':float, 'sqft_lot15':float, 'sqft_living':float, 'floors':str, 'condition':int, 'lat':float, 'date':str, 'sqft_basement':int, 'yr_built':int, 'id':str, 'sqft_lot':int, 'view':int}\n",
    "sales = pd.read_csv('kc_house_data.csv', dtype=dtype_dict)\n",
    "X_train, X_test, y_train, y_test = train_test_split(sales, sales['price'], train_size=.8, random_state=0, test_size=.2)"
   ]
  },
  {
   "cell_type": "markdown",
   "metadata": {},
   "source": [
    "# USING ON TRAIN DATA"
   ]
  },
  {
   "cell_type": "code",
   "execution_count": 18,
   "metadata": {},
   "outputs": [
    {
     "name": "stderr",
     "output_type": "stream",
     "text": [
      "/home/arsanuos/.local/lib/python2.7/site-packages/ipykernel_launcher.py:18: SettingWithCopyWarning: \n",
      "A value is trying to be set on a copy of a slice from a DataFrame.\n",
      "Try using .loc[row_indexer,col_indexer] = value instead\n",
      "\n",
      "See the caveats in the documentation: http://pandas.pydata.org/pandas-docs/stable/indexing.html#indexing-view-versus-copy\n"
     ]
    }
   ],
   "source": [
    "simple_features = ['sqft_living']\n",
    "my_output= 'price'\n",
    "simple_feature_matrix, output = get_numpy_data(X_train, simple_features, my_output)\n",
    "initial_weights = np.array([-47000., 1.])\n",
    "step_size = 7e-12\n",
    "tolerance = 2.5e7"
   ]
  },
  {
   "cell_type": "code",
   "execution_count": 19,
   "metadata": {},
   "outputs": [
    {
     "name": "stdout",
     "output_type": "stream",
     "text": [
      "(17290,)\n",
      "(17290,)\n",
      "17290\n",
      "17290\n",
      "17290\n",
      "17290\n",
      "(17290,)\n",
      "(17290,)\n",
      "17290\n",
      "17290\n",
      "17290\n",
      "17290\n",
      "(17290,)\n",
      "(17290,)\n",
      "17290\n",
      "17290\n",
      "17290\n",
      "17290\n",
      "(17290,)\n",
      "(17290,)\n",
      "17290\n",
      "17290\n",
      "17290\n",
      "17290\n",
      "(17290,)\n",
      "(17290,)\n",
      "17290\n",
      "17290\n",
      "17290\n",
      "17290\n",
      "(17290,)\n",
      "(17290,)\n",
      "17290\n",
      "17290\n",
      "17290\n",
      "17290\n",
      "(17290,)\n",
      "(17290,)\n",
      "17290\n",
      "17290\n",
      "17290\n",
      "17290\n",
      "(17290,)\n",
      "(17290,)\n",
      "17290\n",
      "17290\n",
      "17290\n",
      "17290\n",
      "(17290,)\n",
      "(17290,)\n",
      "17290\n",
      "17290\n",
      "17290\n",
      "17290\n",
      "(17290,)\n",
      "(17290,)\n",
      "17290\n",
      "17290\n",
      "17290\n",
      "17290\n",
      "(17290,)\n",
      "(17290,)\n",
      "17290\n",
      "17290\n",
      "17290\n",
      "17290\n",
      "(17290,)\n",
      "(17290,)\n",
      "17290\n",
      "17290\n",
      "17290\n",
      "17290\n"
     ]
    }
   ],
   "source": [
    "simple_weights = regresssion_gradient_descent(simple_feature_matrix, output, initial_weights, step_size, tolerance)"
   ]
  },
  {
   "cell_type": "code",
   "execution_count": 20,
   "metadata": {},
   "outputs": [
    {
     "data": {
      "text/plain": [
       "array([-46999.88720259,    283.46383063])"
      ]
     },
     "execution_count": 20,
     "metadata": {},
     "output_type": "execute_result"
    }
   ],
   "source": [
    "simple_weights"
   ]
  },
  {
   "cell_type": "markdown",
   "metadata": {},
   "source": [
    "# USING ON TEST DATA"
   ]
  },
  {
   "cell_type": "code",
   "execution_count": 20,
   "metadata": {},
   "outputs": [
    {
     "name": "stderr",
     "output_type": "stream",
     "text": [
      "/home/arsanuos/.local/lib/python2.7/site-packages/ipykernel_launcher.py:18: SettingWithCopyWarning: \n",
      "A value is trying to be set on a copy of a slice from a DataFrame.\n",
      "Try using .loc[row_indexer,col_indexer] = value instead\n",
      "\n",
      "See the caveats in the documentation: http://pandas.pydata.org/pandas-docs/stable/indexing.html#indexing-view-versus-copy\n"
     ]
    }
   ],
   "source": [
    "simple_features = ['sqft_living']\n",
    "my_output= 'price'\n",
    "simple_feature_matrix, output = get_numpy_data(X_test, simple_features, my_output)\n",
    "initial_weights = np.array([-47000., 1.])\n",
    "step_size = 7e-12\n",
    "tolerance = 2.5e7"
   ]
  },
  {
   "cell_type": "code",
   "execution_count": 21,
   "metadata": {},
   "outputs": [
    {
     "ename": "KeyboardInterrupt",
     "evalue": "",
     "output_type": "error",
     "traceback": [
      "\u001b[0;31m---------------------------------------------------------------------------\u001b[0m",
      "\u001b[0;31mKeyboardInterrupt\u001b[0m                         Traceback (most recent call last)",
      "\u001b[0;32m<ipython-input-21-b89589f7cb6d>\u001b[0m in \u001b[0;36m<module>\u001b[0;34m()\u001b[0m\n\u001b[0;32m----> 1\u001b[0;31m \u001b[0msimple_weights_test\u001b[0m \u001b[0;34m=\u001b[0m \u001b[0mregresssion_gradient_descent\u001b[0m\u001b[0;34m(\u001b[0m\u001b[0msimple_feature_matrix\u001b[0m\u001b[0;34m,\u001b[0m \u001b[0moutput\u001b[0m\u001b[0;34m,\u001b[0m \u001b[0minitial_weights\u001b[0m\u001b[0;34m,\u001b[0m \u001b[0mstep_size\u001b[0m\u001b[0;34m,\u001b[0m \u001b[0mtolerance\u001b[0m\u001b[0;34m)\u001b[0m\u001b[0;34m\u001b[0m\u001b[0m\n\u001b[0m",
      "\u001b[0;32m<ipython-input-15-0b24f2a3ef5a>\u001b[0m in \u001b[0;36mregresssion_gradient_descent\u001b[0;34m(features_matrix, output, inital_weights, step_size, tolerance)\u001b[0m\n\u001b[1;32m     11\u001b[0m             \u001b[0mgradient_sum_squares\u001b[0m \u001b[0;34m+=\u001b[0m \u001b[0mderivative\u001b[0m\u001b[0;34m**\u001b[0m\u001b[0;36m2\u001b[0m\u001b[0;34m\u001b[0m\u001b[0m\n\u001b[1;32m     12\u001b[0m             \u001b[0mweights\u001b[0m\u001b[0;34m[\u001b[0m\u001b[0mi\u001b[0m\u001b[0;34m]\u001b[0m \u001b[0;34m+=\u001b[0m \u001b[0mstep_size\u001b[0m \u001b[0;34m*\u001b[0m \u001b[0mderivative\u001b[0m\u001b[0;34m\u001b[0m\u001b[0m\n\u001b[0;32m---> 13\u001b[0;31m         \u001b[0mgradient_magnitude\u001b[0m \u001b[0;34m=\u001b[0m \u001b[0mnp\u001b[0m\u001b[0;34m.\u001b[0m\u001b[0msqrt\u001b[0m\u001b[0;34m(\u001b[0m\u001b[0mgradient_sum_squares\u001b[0m\u001b[0;34m)\u001b[0m\u001b[0;34m\u001b[0m\u001b[0m\n\u001b[0m\u001b[1;32m     14\u001b[0m         \u001b[0;31m#print(gradient_magnitude - tolerance)\u001b[0m\u001b[0;34m\u001b[0m\u001b[0;34m\u001b[0m\u001b[0m\n\u001b[1;32m     15\u001b[0m         \u001b[0;32mif\u001b[0m \u001b[0mgradient_magnitude\u001b[0m \u001b[0;34m<\u001b[0m \u001b[0mtolerance\u001b[0m\u001b[0;34m:\u001b[0m\u001b[0;34m\u001b[0m\u001b[0m\n",
      "\u001b[0;31mKeyboardInterrupt\u001b[0m: "
     ]
    }
   ],
   "source": [
    "simple_weights_test = regresssion_gradient_descent(simple_feature_matrix, output, initial_weights, step_size, tolerance)"
   ]
  },
  {
   "cell_type": "code",
   "execution_count": null,
   "metadata": {},
   "outputs": [],
   "source": [
    "simple_weights_test"
   ]
  },
  {
   "cell_type": "markdown",
   "metadata": {},
   "source": [
    "# USING SFRAME"
   ]
  },
  {
   "cell_type": "code",
   "execution_count": 21,
   "metadata": {},
   "outputs": [],
   "source": [
    "sales = graphlab.SFrame('kc_house_data.gl/')\n",
    "train_data,test_data = sales.random_split(.8,seed=0)"
   ]
  },
  {
   "cell_type": "code",
   "execution_count": 22,
   "metadata": {},
   "outputs": [
    {
     "name": "stdout",
     "output_type": "stream",
     "text": [
      "(17384,)\n"
     ]
    }
   ],
   "source": [
    "simple_features = ['sqft_living']\n",
    "my_output= 'price'\n",
    "simple_feature_matrix, output = get_numpy_data_sframe(train_data, simple_features, my_output)\n",
    "initial_weights = np.array([-47000., 1.])\n",
    "step_size = 7e-12\n",
    "tolerance = 2.5e7"
   ]
  },
  {
   "cell_type": "code",
   "execution_count": 23,
   "metadata": {},
   "outputs": [
    {
     "name": "stdout",
     "output_type": "stream",
     "text": [
      "(17384,)\n",
      "(17384,)\n",
      "17384\n",
      "17384\n",
      "17384\n",
      "17384\n",
      "(17384,)\n",
      "(17384,)\n",
      "17384\n",
      "17384\n",
      "17384\n",
      "17384\n",
      "(17384,)\n",
      "(17384,)\n",
      "17384\n",
      "17384\n",
      "17384\n",
      "17384\n",
      "(17384,)\n",
      "(17384,)\n",
      "17384\n",
      "17384\n",
      "17384\n",
      "17384\n",
      "(17384,)\n",
      "(17384,)\n",
      "17384\n",
      "17384\n",
      "17384\n",
      "17384\n",
      "(17384,)\n",
      "(17384,)\n",
      "17384\n",
      "17384\n",
      "17384\n",
      "17384\n",
      "(17384,)\n",
      "(17384,)\n",
      "17384\n",
      "17384\n",
      "17384\n",
      "17384\n",
      "(17384,)\n",
      "(17384,)\n",
      "17384\n",
      "17384\n",
      "17384\n",
      "17384\n",
      "(17384,)\n",
      "(17384,)\n",
      "17384\n",
      "17384\n",
      "17384\n",
      "17384\n",
      "(17384,)\n",
      "(17384,)\n",
      "17384\n",
      "17384\n",
      "17384\n",
      "17384\n",
      "(17384,)\n",
      "(17384,)\n",
      "17384\n",
      "17384\n",
      "17384\n",
      "17384\n",
      "(17384,)\n",
      "(17384,)\n",
      "17384\n",
      "17384\n",
      "17384\n",
      "17384\n"
     ]
    }
   ],
   "source": [
    "simple_weights = regresssion_gradient_descent(simple_feature_matrix, output,initial_weights, step_size, tolerance)"
   ]
  },
  {
   "cell_type": "code",
   "execution_count": 24,
   "metadata": {},
   "outputs": [
    {
     "data": {
      "text/plain": [
       "array([-46999.88716555,    281.91211912])"
      ]
     },
     "execution_count": 24,
     "metadata": {},
     "output_type": "execute_result"
    }
   ],
   "source": [
    "simple_weights"
   ]
  },
  {
   "cell_type": "code",
   "execution_count": 25,
   "metadata": {},
   "outputs": [
    {
     "name": "stdout",
     "output_type": "stream",
     "text": [
      "(4229,)\n"
     ]
    }
   ],
   "source": [
    "simple_features = ['sqft_living']\n",
    "my_output= 'price'\n",
    "simple_feature_matrix, output = get_numpy_data_sframe(test_data, simple_features, my_output)\n",
    "initial_weights = np.array([-47000., 1.])\n",
    "step_size = 7e-12\n",
    "tolerance = 2.5e7"
   ]
  },
  {
   "cell_type": "code",
   "execution_count": 26,
   "metadata": {},
   "outputs": [
    {
     "name": "stdout",
     "output_type": "stream",
     "text": [
      "(4229,)\n",
      "(4229,)\n",
      "4229\n",
      "4229\n",
      "4229\n",
      "4229\n",
      "(4229,)\n",
      "(4229,)\n",
      "4229\n",
      "4229\n",
      "4229\n",
      "4229\n",
      "(4229,)\n",
      "(4229,)\n",
      "4229\n",
      "4229\n",
      "4229\n",
      "4229\n",
      "(4229,)\n",
      "(4229,)\n",
      "4229\n",
      "4229\n",
      "4229\n",
      "4229\n",
      "(4229,)\n",
      "(4229,)\n",
      "4229\n",
      "4229\n",
      "4229\n",
      "4229\n",
      "(4229,)\n",
      "(4229,)\n",
      "4229\n",
      "4229\n",
      "4229\n",
      "4229\n",
      "(4229,)\n",
      "(4229,)\n",
      "4229\n",
      "4229\n",
      "4229\n",
      "4229\n",
      "(4229,)\n",
      "(4229,)\n",
      "4229\n",
      "4229\n",
      "4229\n",
      "4229\n",
      "(4229,)\n",
      "(4229,)\n",
      "4229\n",
      "4229\n",
      "4229\n",
      "4229\n",
      "(4229,)\n",
      "(4229,)\n",
      "4229\n",
      "4229\n",
      "4229\n",
      "4229\n",
      "(4229,)\n",
      "(4229,)\n",
      "4229\n",
      "4229\n",
      "4229\n",
      "4229\n",
      "(4229,)\n",
      "(4229,)\n",
      "4229\n",
      "4229\n",
      "4229\n",
      "4229\n",
      "(4229,)\n",
      "(4229,)\n",
      "4229\n",
      "4229\n",
      "4229\n",
      "4229\n",
      "(4229,)\n",
      "(4229,)\n",
      "4229\n",
      "4229\n",
      "4229\n",
      "4229\n",
      "(4229,)\n",
      "(4229,)\n",
      "4229\n",
      "4229\n",
      "4229\n",
      "4229\n",
      "(4229,)\n",
      "(4229,)\n",
      "4229\n",
      "4229\n",
      "4229\n",
      "4229\n",
      "(4229,)\n",
      "(4229,)\n",
      "4229\n",
      "4229\n",
      "4229\n",
      "4229\n",
      "(4229,)\n",
      "(4229,)\n",
      "4229\n",
      "4229\n",
      "4229\n",
      "4229\n",
      "(4229,)\n",
      "(4229,)\n",
      "4229\n",
      "4229\n",
      "4229\n",
      "4229\n",
      "(4229,)\n",
      "(4229,)\n",
      "4229\n",
      "4229\n",
      "4229\n",
      "4229\n",
      "(4229,)\n",
      "(4229,)\n",
      "4229\n",
      "4229\n",
      "4229\n",
      "4229\n",
      "(4229,)\n",
      "(4229,)\n",
      "4229\n",
      "4229\n",
      "4229\n",
      "4229\n",
      "(4229,)\n",
      "(4229,)\n",
      "4229\n",
      "4229\n",
      "4229\n",
      "4229\n",
      "(4229,)\n",
      "(4229,)\n",
      "4229\n",
      "4229\n",
      "4229\n",
      "4229\n",
      "(4229,)\n",
      "(4229,)\n",
      "4229\n",
      "4229\n",
      "4229\n",
      "4229\n",
      "(4229,)\n",
      "(4229,)\n",
      "4229\n",
      "4229\n",
      "4229\n",
      "4229\n",
      "(4229,)\n",
      "(4229,)\n",
      "4229\n",
      "4229\n",
      "4229\n",
      "4229\n",
      "(4229,)\n",
      "(4229,)\n",
      "4229\n",
      "4229\n",
      "4229\n",
      "4229\n",
      "(4229,)\n",
      "(4229,)\n",
      "4229\n",
      "4229\n",
      "4229\n",
      "4229\n",
      "(4229,)\n",
      "(4229,)\n",
      "4229\n",
      "4229\n",
      "4229\n",
      "4229\n",
      "(4229,)\n",
      "(4229,)\n",
      "4229\n",
      "4229\n",
      "4229\n",
      "4229\n",
      "(4229,)\n",
      "(4229,)\n",
      "4229\n",
      "4229\n",
      "4229\n",
      "4229\n",
      "(4229,)\n",
      "(4229,)\n",
      "4229\n",
      "4229\n",
      "4229\n",
      "4229\n",
      "(4229,)\n",
      "(4229,)\n",
      "4229\n",
      "4229\n",
      "4229\n",
      "4229\n",
      "(4229,)\n",
      "(4229,)\n",
      "4229\n",
      "4229\n",
      "4229\n",
      "4229\n",
      "(4229,)\n",
      "(4229,)\n",
      "4229\n",
      "4229\n",
      "4229\n",
      "4229\n",
      "(4229,)\n",
      "(4229,)\n",
      "4229\n",
      "4229\n",
      "4229\n",
      "4229\n",
      "(4229,)\n",
      "(4229,)\n",
      "4229\n",
      "4229\n",
      "4229\n",
      "4229\n",
      "(4229,)\n",
      "(4229,)\n",
      "4229\n",
      "4229\n",
      "4229\n",
      "4229\n",
      "(4229,)\n",
      "(4229,)\n",
      "4229\n",
      "4229\n",
      "4229\n",
      "4229\n",
      "(4229,)\n",
      "(4229,)\n",
      "4229\n",
      "4229\n",
      "4229\n",
      "4229\n",
      "(4229,)\n",
      "(4229,)\n",
      "4229\n",
      "4229\n",
      "4229\n",
      "4229\n",
      "(4229,)\n",
      "(4229,)\n",
      "4229\n",
      "4229\n",
      "4229\n",
      "4229\n"
     ]
    }
   ],
   "source": [
    "simple_weights = regresssion_gradient_descent(simple_feature_matrix, output,initial_weights, step_size, tolerance)"
   ]
  },
  {
   "cell_type": "code",
   "execution_count": 29,
   "metadata": {},
   "outputs": [
    {
     "data": {
      "text/plain": [
       "array([-46999.87880043,    282.35945337])"
      ]
     },
     "execution_count": 29,
     "metadata": {},
     "output_type": "execute_result"
    }
   ],
   "source": [
    "simple_weights"
   ]
  },
  {
   "cell_type": "code",
   "execution_count": 30,
   "metadata": {},
   "outputs": [
    {
     "data": {
      "text/plain": [
       "356774.13951860263"
      ]
     },
     "execution_count": 30,
     "metadata": {},
     "output_type": "execute_result"
    }
   ],
   "source": [
    "predictions = predict_outcome(simple_feature_matrix, simple_weights)\n",
    "predictions[0]"
   ]
  },
  {
   "cell_type": "markdown",
   "metadata": {},
   "source": [
    "# ADDING MORE FEATURES"
   ]
  },
  {
   "cell_type": "code",
   "execution_count": 33,
   "metadata": {},
   "outputs": [
    {
     "name": "stdout",
     "output_type": "stream",
     "text": [
      "(4229,)\n"
     ]
    }
   ],
   "source": [
    "model_features = ['sqft_living', 'sqft_living15']\n",
    "my_output = 'price'\n",
    "(feature_matrix, output) = get_numpy_data_sframe(test_data, model_features,my_output)\n",
    "initial_weights = np.array([-100000., 1., 1.])\n",
    "step_size = 4e-12\n",
    "tolerance = 1e9"
   ]
  },
  {
   "cell_type": "code",
   "execution_count": 34,
   "metadata": {},
   "outputs": [
    {
     "ename": "ValueError",
     "evalue": "shapes (4229,2) and (3,) not aligned: 2 (dim 1) != 3 (dim 0)",
     "output_type": "error",
     "traceback": [
      "\u001b[0;31m---------------------------------------------------------------------------\u001b[0m",
      "\u001b[0;31mValueError\u001b[0m                                Traceback (most recent call last)",
      "\u001b[0;32m<ipython-input-34-e299d164de45>\u001b[0m in \u001b[0;36m<module>\u001b[0;34m()\u001b[0m\n\u001b[0;32m----> 1\u001b[0;31m \u001b[0msimple_weights\u001b[0m \u001b[0;34m=\u001b[0m \u001b[0mregresssion_gradient_descent\u001b[0m\u001b[0;34m(\u001b[0m\u001b[0msimple_feature_matrix\u001b[0m\u001b[0;34m,\u001b[0m \u001b[0moutput\u001b[0m\u001b[0;34m,\u001b[0m\u001b[0minitial_weights\u001b[0m\u001b[0;34m,\u001b[0m \u001b[0mstep_size\u001b[0m\u001b[0;34m,\u001b[0m \u001b[0mtolerance\u001b[0m\u001b[0;34m)\u001b[0m\u001b[0;34m\u001b[0m\u001b[0m\n\u001b[0m",
      "\u001b[0;32m<ipython-input-16-1337ca9efa82>\u001b[0m in \u001b[0;36mregresssion_gradient_descent\u001b[0;34m(features_matrix, output, inital_weights, step_size, tolerance)\u001b[0m\n\u001b[1;32m      3\u001b[0m     \u001b[0mweights\u001b[0m \u001b[0;34m=\u001b[0m \u001b[0mnp\u001b[0m\u001b[0;34m.\u001b[0m\u001b[0marray\u001b[0m\u001b[0;34m(\u001b[0m\u001b[0minital_weights\u001b[0m\u001b[0;34m)\u001b[0m\u001b[0;34m\u001b[0m\u001b[0m\n\u001b[1;32m      4\u001b[0m     \u001b[0;32mwhile\u001b[0m \u001b[0;32mnot\u001b[0m \u001b[0mconverged\u001b[0m\u001b[0;34m:\u001b[0m\u001b[0;34m\u001b[0m\u001b[0m\n\u001b[0;32m----> 5\u001b[0;31m         \u001b[0mpredictions\u001b[0m \u001b[0;34m=\u001b[0m \u001b[0mpredict_outcome\u001b[0m\u001b[0;34m(\u001b[0m\u001b[0mfeatures_matrix\u001b[0m\u001b[0;34m,\u001b[0m \u001b[0mweights\u001b[0m\u001b[0;34m)\u001b[0m\u001b[0;34m\u001b[0m\u001b[0m\n\u001b[0m\u001b[1;32m      6\u001b[0m         \u001b[0merrors\u001b[0m \u001b[0;34m=\u001b[0m \u001b[0moutput\u001b[0m \u001b[0;34m-\u001b[0m \u001b[0mpredictions\u001b[0m\u001b[0;34m\u001b[0m\u001b[0m\n\u001b[1;32m      7\u001b[0m         \u001b[0;32mprint\u001b[0m\u001b[0;34m(\u001b[0m\u001b[0merrors\u001b[0m\u001b[0;34m.\u001b[0m\u001b[0mshape\u001b[0m\u001b[0;34m)\u001b[0m\u001b[0;34m\u001b[0m\u001b[0m\n",
      "\u001b[0;32m<ipython-input-14-4379f8ed5cd4>\u001b[0m in \u001b[0;36mpredict_outcome\u001b[0;34m(features_matrix, weights)\u001b[0m\n\u001b[1;32m      9\u001b[0m '''\n\u001b[1;32m     10\u001b[0m \u001b[0;32mdef\u001b[0m \u001b[0mpredict_outcome\u001b[0m\u001b[0;34m(\u001b[0m\u001b[0mfeatures_matrix\u001b[0m\u001b[0;34m,\u001b[0m \u001b[0mweights\u001b[0m\u001b[0;34m)\u001b[0m\u001b[0;34m:\u001b[0m\u001b[0;34m\u001b[0m\u001b[0m\n\u001b[0;32m---> 11\u001b[0;31m     \u001b[0mpredictions\u001b[0m \u001b[0;34m=\u001b[0m \u001b[0mnp\u001b[0m\u001b[0;34m.\u001b[0m\u001b[0mdot\u001b[0m\u001b[0;34m(\u001b[0m\u001b[0mfeatures_matrix\u001b[0m\u001b[0;34m,\u001b[0m \u001b[0mweights\u001b[0m\u001b[0;34m)\u001b[0m\u001b[0;34m\u001b[0m\u001b[0m\n\u001b[0m\u001b[1;32m     12\u001b[0m     \u001b[0;32mreturn\u001b[0m \u001b[0mpredictions\u001b[0m\u001b[0;34m\u001b[0m\u001b[0m\n",
      "\u001b[0;31mValueError\u001b[0m: shapes (4229,2) and (3,) not aligned: 2 (dim 1) != 3 (dim 0)"
     ]
    }
   ],
   "source": [
    "simple_weights = regresssion_gradient_descent(simple_feature_matrix, output,initial_weights, step_size, tolerance)"
   ]
  },
  {
   "cell_type": "code",
   "execution_count": null,
   "metadata": {},
   "outputs": [],
   "source": []
  }
 ],
 "metadata": {
  "kernelspec": {
   "display_name": "Python 2",
   "language": "python",
   "name": "python2"
  },
  "language_info": {
   "codemirror_mode": {
    "name": "ipython",
    "version": 2
   },
   "file_extension": ".py",
   "mimetype": "text/x-python",
   "name": "python",
   "nbconvert_exporter": "python",
   "pygments_lexer": "ipython2",
   "version": "2.7.12"
  }
 },
 "nbformat": 4,
 "nbformat_minor": 2
}
